{
 "cells": [
  {
   "cell_type": "code",
   "execution_count": null,
   "outputs": [],
   "source": [
    "# <center>Assignment-1<center>"
   ],
   "metadata": {
    "collapsed": false
   }
  },
  {
   "cell_type": "markdown",
   "metadata": {},
   "source": [
    "<p>Team Name: Group 1\n",
    "<p>Student Names: Kaden Larussa, Brooks, Nick\n",
    "<p>Student W#s: W0762283, "
   ]
  },
  {
   "cell_type": "markdown",
   "metadata": {},
   "source": [
    "## Instructions\n",
    "Use generic coding style unless hard-coded values are really necessary.<br>\n",
    "Your code must be efficient and use self-explanatory naming.<br>\n",
    "Run your entire code and save. Then submit this <b>saved</b> copy."
   ]
  },
  {
   "cell_type": "markdown",
   "metadata": {},
   "source": [
    "## Imports"
   ]
  },
  {
   "cell_type": "raw",
   "source": [],
   "metadata": {
    "collapsed": false
   }
  },
  {
   "cell_type": "markdown",
   "metadata": {},
   "source": [
    "# PART I"
   ]
  },
  {
   "cell_type": "markdown",
   "metadata": {},
   "source": [
    "## Format"
   ]
  },
  {
   "cell_type": "code",
   "execution_count": null,
   "metadata": {},
   "outputs": [],
   "source": [
    "A = ''#initialize your variable with a value of the data type. Remove this comment.\n",
    "print(\"id(A): \",id(A))\n",
    "\n",
    "try:\n",
    "    #at this line, write your code to modify the variable \"A\",\n",
    "    #do not 'assign' a new value to \"A\"!. See the example below.\n",
    "    #Remove this comment section and the example section below.\n",
    "    '''\n",
    "    Remove this example section before submit your work\n",
    "    Example:\n",
    "\n",
    "    A = 'str1'\n",
    "    A[0] = 'b'\n",
    "    '''\n",
    "    \n",
    "    print(type(A),\" is a mutable data type!\")\n",
    "\n",
    "except:\n",
    "    print(type(A),\" is an immutable data type!\")\n",
    "finally:\n",
    "    print(\"id(A): \",id(A))    \n",
    "#\n"
   ]
  },
  {
   "cell_type": "markdown",
   "metadata": {},
   "source": [
    "# IMMUTABLE OBJECTS"
   ]
  },
  {
   "cell_type": "markdown",
   "metadata": {},
   "source": [
    "## 1 - String"
   ]
  },
  {
   "cell_type": "code",
   "execution_count": null,
   "metadata": {},
   "outputs": [],
   "source": [
    "A = 'abcd'\n",
    "print(\"id(A): \",id(A))\n",
    "try:\n",
    "    A[0] = 'b'\n",
    "    print(type(A),\" is a mutable data type!\")\n",
    "except:\n",
    "    print(type(A),\" is an immutable data type!\")\n",
    "finally:\n",
    "    print(\"id(A): \",id(A))\n",
    "#"
   ]
  },
  {
   "cell_type": "markdown",
   "metadata": {},
   "source": [
    "# MUTABLE OBJECTS"
   ]
  },
  {
   "cell_type": "markdown",
   "metadata": {},
   "source": [
    "## 1 - List"
   ]
  },
  {
   "cell_type": "code",
   "execution_count": null,
   "metadata": {
    "scrolled": true
   },
   "outputs": [],
   "source": [
    "aLst = ['a','b','c','d']\n",
    "print(\"id(A): \",id(A))\n",
    "try:\n",
    "    aLst[0] = 'A'\n",
    "    print(type(A),\" is a mutable data type!\")\n",
    "except:\n",
    "    print(type(A),\" is an immutable data type!\")\n",
    "finally:\n",
    "    print(\"id(A): \",id(A))\n",
    "#"
   ]
  }
 ],
 "metadata": {
  "kernelspec": {
   "display_name": "Python 3 (ipykernel)",
   "language": "python",
   "name": "python3"
  },
  "language_info": {
   "codemirror_mode": {
    "name": "ipython",
    "version": 3
   },
   "file_extension": ".py",
   "mimetype": "text/x-python",
   "name": "python",
   "nbconvert_exporter": "python",
   "pygments_lexer": "ipython3",
   "version": "3.9.13"
  }
 },
 "nbformat": 4,
 "nbformat_minor": 2
}
