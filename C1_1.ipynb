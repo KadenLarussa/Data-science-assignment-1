{
 "cells": [
  {
   "cell_type": "code",
   "execution_count": null,
   "metadata": {},
   "outputs": [],
   "source": [
    "# <center>Assignment-1<center>"
   ]
  },
  {
   "cell_type": "markdown",
   "metadata": {},
   "source": [
    "<p>Team Name: Group 1\n",
    "<p>Student Names: Kaden Larussa, Brooks, Nick\n",
    "<p>Student W#s: W0762283, "
   ]
  },
  {
   "cell_type": "markdown",
   "metadata": {},
   "source": [
    "## Instructions\n",
    "Use generic coding style unless hard-coded values are really necessary.<br>\n",
    "Your code must be efficient and use self-explanatory naming.<br>\n",
    "Run your entire code and save. Then submit this <b>saved</b> copy."
   ]
  },
  {
   "cell_type": "markdown",
   "metadata": {},
   "source": [
    "## Imports"
   ]
  },
  {
   "cell_type": "raw",
   "metadata": {},
   "source": []
  },
  {
   "cell_type": "markdown",
   "source": [
    "\"\"\"Immutable Data Types:\n",
    "1. str\n",
    "2. int\n",
    "3. float\n",
    "4. bool\n",
    "5. tuple\n",
    "6. frozenset\n",
    "7. bytes\n",
    "8. complex\n",
    "9. NoneType\n",
    "10. Unicode\n",
    "\n",
    "Mutable Data Types:\n",
    "1. list\n",
    "2. dict\n",
    "3. set\n",
    "4. bytearray\n",
    "5. user-defined classes (objects)\"\"\""
   ],
   "metadata": {
    "collapsed": false
   }
  },
  {
   "cell_type": "markdown",
   "metadata": {},
   "source": [
    "# PART I"
   ]
  },
  {
   "cell_type": "markdown",
   "metadata": {},
   "source": [
    "## Format"
   ]
  },
  {
   "cell_type": "code",
   "execution_count": 9,
   "metadata": {
    "ExecuteTime": {
     "end_time": "2023-08-29T22:33:05.771307700Z",
     "start_time": "2023-08-29T22:33:05.743795400Z"
    }
   },
   "outputs": [
    {
     "name": "stdout",
     "output_type": "stream",
     "text": [
      "id(A):  140715986200296\n",
      "<class 'str'> is a mutable data type!\n",
      "id(A):  108967728\n"
     ]
    }
   ],
   "source": [
    "A = ''#initialize your variable with a value of the data type. Remove this comment.\n",
    "print(\"id(A): \",id(A))\n",
    "\n",
    "try:\n",
    "    #at this line, write your code to modify the variable \"A\",\n",
    "    #do not 'assign' a new value to \"A\"!. See the example below.\n",
    "    #Remove this comment section and the example section below.\n",
    "    '''\n",
    "    Remove this example section before submit your work\n",
    "    Example:\n",
    "\n",
    "    A = 'str1'\n",
    "    A[0] = 'b'\n",
    "    '''\n",
    "    \n",
    "    print(type(A),\" is a mutable data type!\")\n",
    "\n",
    "except:\n",
    "    print(type(A),\" is an immutable data type!\")\n",
    "finally:\n",
    "    print(\"id(A): \",id(A))    \n",
    "#\n"
   ]
  },
  {
   "cell_type": "markdown",
   "metadata": {},
   "source": [
    "# IMMUTABLE OBJECTS"
   ]
  },
  {
   "cell_type": "markdown",
   "metadata": {},
   "source": [
    "## 1 - String"
   ]
  },
  {
   "cell_type": "code",
   "execution_count": 12,
   "metadata": {
    "ExecuteTime": {
     "end_time": "2023-08-29T22:37:23.670192400Z",
     "start_time": "2023-08-29T22:37:23.664195700Z"
    }
   },
   "outputs": [
    {
     "name": "stdout",
     "output_type": "stream",
     "text": [
      "id(A):  138800944\n",
      "<class 'str'>  is an immutable data type!\n",
      "id(A):  138800944\n"
     ]
    }
   ],
   "source": [
    "A = 'abcd'\n",
    "print(\"id(A): \",id(A))\n",
    "try:\n",
    "    A[0] = 'b'\n",
    "    print(type(A),\" is a mutable data type!\")\n",
    "except:\n",
    "    print(type(A),\" is an immutable data type!\")\n",
    "finally:\n",
    "    print(\"id(A): \",id(A))\n",
    "#"
   ]
  },
  {
   "cell_type": "markdown",
   "source": [
    "## 2 - Integer"
   ],
   "metadata": {
    "collapsed": false
   }
  },
  {
   "cell_type": "code",
   "execution_count": 11,
   "outputs": [
    {
     "name": "stdout",
     "output_type": "stream",
     "text": [
      "id(A):  140715987276584\n",
      "<class 'int'>  is an immutable data type!\n",
      "id(A):  140715987276584\n"
     ]
    }
   ],
   "source": [
    "A = 1\n",
    "print(\"id(A): \", id(A))\n",
    "\n",
    "try:\n",
    "    A[0] = 2  \n",
    "    print(type(A), \" is a mutable data type!\")\n",
    "except TypeError:  \n",
    "    print(type(A), \" is an immutable data type!\")\n",
    "finally:\n",
    "    print(\"id(A): \", id(A))\n"
   ],
   "metadata": {
    "collapsed": false,
    "ExecuteTime": {
     "end_time": "2023-08-29T22:37:21.233119700Z",
     "start_time": "2023-08-29T22:37:21.227612500Z"
    }
   }
  },
  {
   "cell_type": "markdown",
   "source": [
    "## 3 - Float"
   ],
   "metadata": {
    "collapsed": false
   }
  },
  {
   "cell_type": "code",
   "execution_count": 14,
   "outputs": [
    {
     "name": "stdout",
     "output_type": "stream",
     "text": [
      "id(A):  108574000\n",
      "<class 'float'> is an immutable data type!\n",
      "id(A):  108574000\n"
     ]
    }
   ],
   "source": [
    "A = 42.0\n",
    "print(\"id(A): \", id(A))\n",
    "try:\n",
    "    A[0] = 2\n",
    "except:\n",
    "    print(type(A), \"is an immutable data type!\")\n",
    "finally:\n",
    "    print(\"id(A): \", id(A))"
   ],
   "metadata": {
    "collapsed": false,
    "ExecuteTime": {
     "end_time": "2023-08-29T22:40:53.208891900Z",
     "start_time": "2023-08-29T22:40:53.203889500Z"
    }
   }
  },
  {
   "cell_type": "markdown",
   "source": [
    "## 4 - Boolean"
   ],
   "metadata": {
    "collapsed": false
   }
  },
  {
   "cell_type": "code",
   "execution_count": 15,
   "outputs": [
    {
     "name": "stdout",
     "output_type": "stream",
     "text": [
      "id(A):  140715985807904\n",
      "<class 'bool'> is an immutable data type!\n",
      "id(A):  140715985807904\n"
     ]
    }
   ],
   "source": [
    "A = True\n",
    "print(\"id(A): \", id(A))\n",
    "try:\n",
    "    A[0] = False\n",
    "except:\n",
    "    print(type(A), \"is an immutable data type!\")\n",
    "finally:\n",
    "    print(\"id(A): \", id(A))"
   ],
   "metadata": {
    "collapsed": false,
    "ExecuteTime": {
     "end_time": "2023-08-29T22:42:31.972773700Z",
     "start_time": "2023-08-29T22:42:31.968267600Z"
    }
   }
  },
  {
   "cell_type": "markdown",
   "source": [
    "## 5 - Tuple"
   ],
   "metadata": {
    "collapsed": false
   }
  },
  {
   "cell_type": "code",
   "execution_count": null,
   "outputs": [],
   "source": [
    "A = (1, 2, 3)\n",
    "print(\"id(A): \", id(A))\n",
    "try:\n",
    "    A[0] = 2\n",
    "except:\n",
    "    print(type(A), \"is an immutable data type!\")\n",
    "finally:\n",
    "    print(\"id(A): \", id(A))"
   ],
   "metadata": {
    "collapsed": false
   }
  },
  {
   "cell_type": "markdown",
   "source": [
    "## 6 - Frozenset"
   ],
   "metadata": {
    "collapsed": false
   }
  },
  {
   "cell_type": "code",
   "execution_count": null,
   "outputs": [],
   "source": [
    "A = frozenset([1, 2, 3])\n",
    "print(\"id(A): \", id(A))\n",
    "try:\n",
    "    A[0] = 2\n",
    "except:\n",
    "    print(type(A), \"is an immutable data type!\")\n",
    "finally:\n",
    "    print(\"id(A): \", id(A))"
   ],
   "metadata": {
    "collapsed": false
   }
  },
  {
   "cell_type": "markdown",
   "source": [
    "## 7 - Bytes"
   ],
   "metadata": {
    "collapsed": false
   }
  },
  {
   "cell_type": "code",
   "execution_count": 16,
   "outputs": [
    {
     "name": "stdout",
     "output_type": "stream",
     "text": [
      "id(A):  109023792\n",
      "<class 'bytes'> is an immutable data type!\n",
      "id(A):  109023792\n"
     ]
    }
   ],
   "source": [
    "A = b'hello'\n",
    "print(\"id(A): \", id(A))\n",
    "try:\n",
    "    A[0] = 104\n",
    "except:\n",
    "    print(type(A), \"is an immutable data type!\")\n",
    "finally:\n",
    "    print(\"id(A): \", id(A))"
   ],
   "metadata": {
    "collapsed": false,
    "ExecuteTime": {
     "end_time": "2023-08-29T22:43:15.066912800Z",
     "start_time": "2023-08-29T22:43:15.059916600Z"
    }
   }
  },
  {
   "cell_type": "markdown",
   "source": [
    "## 8 - Complex"
   ],
   "metadata": {
    "collapsed": false
   }
  },
  {
   "cell_type": "code",
   "execution_count": 17,
   "outputs": [
    {
     "name": "stdout",
     "output_type": "stream",
     "text": [
      "id(A):  108566288\n",
      "<class 'complex'> is an immutable data type!\n",
      "id(A):  108566288\n"
     ]
    }
   ],
   "source": [
    "A = 1 + 2j\n",
    "print(\"id(A): \", id(A))\n",
    "try:\n",
    "    A[0] = 2\n",
    "except:\n",
    "    print(type(A), \"is an immutable data type!\")\n",
    "finally:\n",
    "    print(\"id(A): \", id(A))"
   ],
   "metadata": {
    "collapsed": false,
    "ExecuteTime": {
     "end_time": "2023-08-29T22:43:29.767149700Z",
     "start_time": "2023-08-29T22:43:29.761642700Z"
    }
   }
  },
  {
   "cell_type": "markdown",
   "source": [
    "## 9 - NoneType"
   ],
   "metadata": {
    "collapsed": false
   }
  },
  {
   "cell_type": "code",
   "execution_count": 18,
   "outputs": [
    {
     "name": "stdout",
     "output_type": "stream",
     "text": [
      "id(A):  140715985890032\n",
      "<class 'NoneType'> is an immutable data type!\n",
      "id(A):  140715985890032\n"
     ]
    }
   ],
   "source": [
    "A = None\n",
    "print(\"id(A): \", id(A))\n",
    "try:\n",
    "    A[0] = 2\n",
    "except:\n",
    "    print(type(A), \"is an immutable data type!\")\n",
    "finally:\n",
    "    print(\"id(A): \", id(A))"
   ],
   "metadata": {
    "collapsed": false,
    "ExecuteTime": {
     "end_time": "2023-08-29T22:44:10.514076700Z",
     "start_time": "2023-08-29T22:44:10.508566500Z"
    }
   }
  },
  {
   "cell_type": "markdown",
   "source": [
    "## 10 - Unicode"
   ],
   "metadata": {
    "collapsed": false
   }
  },
  {
   "cell_type": "code",
   "execution_count": 29,
   "outputs": [
    {
     "name": "stdout",
     "output_type": "stream",
     "text": [
      "id(A):  87840176\n",
      "<class 'str'> is an immutable data type!\n",
      "id(A):  87840176\n"
     ]
    }
   ],
   "source": [
    "A = 'hello'\n",
    "print(\"id(A): \", id(A))\n",
    "try:\n",
    "    A[0] = 'H'\n",
    "except:\n",
    "    print(type(A), \"is an immutable data type!\")\n",
    "finally:\n",
    "    print(\"id(A): \", id(A))"
   ],
   "metadata": {
    "collapsed": false,
    "ExecuteTime": {
     "end_time": "2023-08-29T22:46:13.941075Z",
     "start_time": "2023-08-29T22:46:13.934566Z"
    }
   }
  },
  {
   "cell_type": "markdown",
   "metadata": {},
   "source": [
    "# MUTABLE OBJECTS"
   ]
  },
  {
   "cell_type": "markdown",
   "metadata": {},
   "source": [
    "## 1 - List"
   ]
  },
  {
   "cell_type": "code",
   "execution_count": 28,
   "metadata": {
    "scrolled": true,
    "ExecuteTime": {
     "end_time": "2023-08-29T22:46:11.833307800Z",
     "start_time": "2023-08-29T22:46:11.825799800Z"
    }
   },
   "outputs": [
    {
     "name": "stdout",
     "output_type": "stream",
     "text": [
      "id(A):  108358464\n",
      "<class 'list'> is a mutable data type!\n",
      "id(A):  108358464\n"
     ]
    }
   ],
   "source": [
    "A = [1, 2, 3]\n",
    "print(\"id(A): \", id(A))\n",
    "try:\n",
    "    A[0] = 2\n",
    "    print(type(A), \"is a mutable data type!\")\n",
    "except:\n",
    "    print(type(A), \"is an immutable data type!\")\n",
    "finally:\n",
    "    print(\"id(A): \", id(A))"
   ]
  },
  {
   "cell_type": "markdown",
   "source": [
    "## 2 - Dictionary"
   ],
   "metadata": {
    "collapsed": false
   }
  },
  {
   "cell_type": "code",
   "execution_count": 27,
   "outputs": [
    {
     "name": "stdout",
     "output_type": "stream",
     "text": [
      "id(A):  138796096\n",
      "<class 'dict'> is a mutable data type!\n",
      "id(A):  138796096\n"
     ]
    }
   ],
   "source": [
    "A = {'key': 'value'}\n",
    "print(\"id(A): \", id(A))\n",
    "try:\n",
    "    A['key'] = 'new_value'\n",
    "    print(type(A), \"is a mutable data type!\")\n",
    "except:\n",
    "    print(type(A), \"is an immutable data type!\")\n",
    "finally:\n",
    "    print(\"id(A): \", id(A))"
   ],
   "metadata": {
    "collapsed": false,
    "ExecuteTime": {
     "end_time": "2023-08-29T22:46:09.962960700Z",
     "start_time": "2023-08-29T22:46:09.956991800Z"
    }
   }
  },
  {
   "cell_type": "markdown",
   "source": [
    "## 3 - Set"
   ],
   "metadata": {
    "collapsed": false
   }
  },
  {
   "cell_type": "code",
   "execution_count": 26,
   "outputs": [
    {
     "name": "stdout",
     "output_type": "stream",
     "text": [
      "id(A):  108835360\n",
      "<class 'set'> is a mutable data type!\n",
      "id(A):  108835360\n"
     ]
    }
   ],
   "source": [
    "A = {1, 2, 3}\n",
    "print(\"id(A): \", id(A))\n",
    "try:\n",
    "    A.add(4)\n",
    "    print(type(A), \"is a mutable data type!\")\n",
    "except:\n",
    "    print(type(A), \"is an immutable data type!\")\n",
    "finally:\n",
    "    print(\"id(A): \", id(A))"
   ],
   "metadata": {
    "collapsed": false,
    "ExecuteTime": {
     "end_time": "2023-08-29T22:46:07.957516Z",
     "start_time": "2023-08-29T22:46:07.951009500Z"
    }
   }
  },
  {
   "cell_type": "markdown",
   "source": [
    "## 4 - Bytearray"
   ],
   "metadata": {
    "collapsed": false
   }
  },
  {
   "cell_type": "code",
   "execution_count": 25,
   "outputs": [
    {
     "name": "stdout",
     "output_type": "stream",
     "text": [
      "id(A):  138784816\n",
      "<class 'bytearray'> is a mutable data type!\n",
      "id(A):  138784816\n"
     ]
    }
   ],
   "source": [
    "A = bytearray(b'hello')\n",
    "print(\"id(A): \", id(A))\n",
    "try:\n",
    "    A[0] = 104\n",
    "    print(type(A), \"is a mutable data type!\")\n",
    "except:\n",
    "    print(type(A), \"is an immutable data type!\")\n",
    "finally:\n",
    "    print(\"id(A): \", id(A))"
   ],
   "metadata": {
    "collapsed": false,
    "ExecuteTime": {
     "end_time": "2023-08-29T22:46:05.251659400Z",
     "start_time": "2023-08-29T22:46:05.244150100Z"
    }
   }
  },
  {
   "cell_type": "markdown",
   "source": [],
   "metadata": {
    "collapsed": false
   }
  },
  {
   "cell_type": "markdown",
   "source": [
    "## 5 - Objects"
   ],
   "metadata": {
    "collapsed": false
   }
  },
  {
   "cell_type": "code",
   "execution_count": 24,
   "outputs": [
    {
     "name": "stdout",
     "output_type": "stream",
     "text": [
      "id(A):  138783952\n",
      "<class '__main__.UserCreatedClass'> is a mutable data type!\n",
      "id(A):  138783952\n"
     ]
    }
   ],
   "source": [
    "class UserCreatedClass:\n",
    "    def __init__(self):\n",
    "        self.x = 1\n",
    "\n",
    "A = UserCreatedClass()\n",
    "print(\"id(A): \", id(A))\n",
    "try:\n",
    "    A.x = 2\n",
    "    print(type(A), \"is a mutable data type!\")\n",
    "except:\n",
    "    print(type(A), \"is an immutable data type!\")\n",
    "finally:\n",
    "    print(\"id(A): \", id(A))"
   ],
   "metadata": {
    "collapsed": false,
    "ExecuteTime": {
     "end_time": "2023-08-29T22:46:02.355409Z",
     "start_time": "2023-08-29T22:46:02.349902200Z"
    }
   }
  }
 ],
 "metadata": {
  "kernelspec": {
   "display_name": "Python 3 (ipykernel)",
   "language": "python",
   "name": "python3"
  },
  "language_info": {
   "codemirror_mode": {
    "name": "ipython",
    "version": 3
   },
   "file_extension": ".py",
   "mimetype": "text/x-python",
   "name": "python",
   "nbconvert_exporter": "python",
   "pygments_lexer": "ipython3",
   "version": "3.11.4"
  }
 },
 "nbformat": 4,
 "nbformat_minor": 2
}
